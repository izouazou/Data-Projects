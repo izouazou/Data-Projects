{
 "cells": [
  {
   "cell_type": "markdown",
   "id": "efd9f522-6387-406d-8029-8fae6ec9d01c",
   "metadata": {},
   "source": [
    "# FIFA 21 Data Cleaning\n",
    "\n",
    "## Introduction\n",
    "This document provides a step-by-step guide for cleaning and preparing FIFA 21 dataset for analysis.\n",
    "\n",
    "## Setup\n",
    "Ensure that you have the necessary tools and libraries installed. You may use Python with Pandas, NumPy, and other relevant libraries.\n",
    "\n",
    "\n"
   ]
  },
  {
   "cell_type": "code",
   "execution_count": 59,
   "id": "0f24ee9e-5b17-4fe9-a626-d283c349eed1",
   "metadata": {},
   "outputs": [],
   "source": [
    "import numpy as np\n",
    "import pandas as pd\n",
    "import seaborn as sns\n",
    "import matplotlib.pyplot as plt\n",
    "%matplotlib inline\n",
    "import warnings\n",
    "warnings.filterwarnings('ignore')"
   ]
  },
  {
   "cell_type": "markdown",
   "id": "2800510b-a7e4-424c-ba7b-149e2d676055",
   "metadata": {},
   "source": [
    "## Data Loading\n",
    "Load the FIFA 21 dataset into a Pandas DataFrame."
   ]
  },
  {
   "cell_type": "code",
   "execution_count": 60,
   "id": "5cc71d8a-0a2a-4e36-90dd-e85749927905",
   "metadata": {},
   "outputs": [],
   "source": [
    "df = pd.read_csv('FIFA21.csv')"
   ]
  },
  {
   "cell_type": "markdown",
   "id": "0c85f604-e558-4407-9b9d-0f0c543cb06d",
   "metadata": {},
   "source": [
    "## Explore the Data\n",
    "Examine the structure of the dataset to identify missing values, outliers, and potential issues.\n",
    "#### Display the Head of the DataFrame"
   ]
  },
  {
   "cell_type": "code",
   "execution_count": 61,
   "id": "2aa3137b-07f2-4add-a8fd-239a228e0642",
   "metadata": {},
   "outputs": [
    {
     "data": {
      "text/html": [
       "<div>\n",
       "<style scoped>\n",
       "    .dataframe tbody tr th:only-of-type {\n",
       "        vertical-align: middle;\n",
       "    }\n",
       "\n",
       "    .dataframe tbody tr th {\n",
       "        vertical-align: top;\n",
       "    }\n",
       "\n",
       "    .dataframe thead th {\n",
       "        text-align: right;\n",
       "    }\n",
       "</style>\n",
       "<table border=\"1\" class=\"dataframe\">\n",
       "  <thead>\n",
       "    <tr style=\"text-align: right;\">\n",
       "      <th></th>\n",
       "      <th>photoUrl</th>\n",
       "      <th>LongName</th>\n",
       "      <th>playerUrl</th>\n",
       "      <th>Nationality</th>\n",
       "      <th>Positions</th>\n",
       "      <th>Name</th>\n",
       "      <th>Age</th>\n",
       "      <th>↓OVA</th>\n",
       "      <th>POT</th>\n",
       "      <th>Team &amp; Contract</th>\n",
       "      <th>...</th>\n",
       "      <th>A/W</th>\n",
       "      <th>D/W</th>\n",
       "      <th>IR</th>\n",
       "      <th>PAC</th>\n",
       "      <th>SHO</th>\n",
       "      <th>PAS</th>\n",
       "      <th>DRI</th>\n",
       "      <th>DEF</th>\n",
       "      <th>PHY</th>\n",
       "      <th>Hits</th>\n",
       "    </tr>\n",
       "  </thead>\n",
       "  <tbody>\n",
       "    <tr>\n",
       "      <th>0</th>\n",
       "      <td>https://cdn.sofifa.com/players/158/023/21_60.png</td>\n",
       "      <td>Lionel Messi</td>\n",
       "      <td>http://sofifa.com/player/158023/lionel-messi/2...</td>\n",
       "      <td>Argentina</td>\n",
       "      <td>RW ST CF</td>\n",
       "      <td>L. Messi</td>\n",
       "      <td>33</td>\n",
       "      <td>93</td>\n",
       "      <td>93</td>\n",
       "      <td>\\n\\n\\n\\nFC Barcelona\\n2004 ~ 2021\\n\\n</td>\n",
       "      <td>...</td>\n",
       "      <td>Medium</td>\n",
       "      <td>Low</td>\n",
       "      <td>5 ★</td>\n",
       "      <td>85</td>\n",
       "      <td>92</td>\n",
       "      <td>91</td>\n",
       "      <td>95</td>\n",
       "      <td>38</td>\n",
       "      <td>65</td>\n",
       "      <td>\\n372</td>\n",
       "    </tr>\n",
       "    <tr>\n",
       "      <th>1</th>\n",
       "      <td>https://cdn.sofifa.com/players/020/801/21_60.png</td>\n",
       "      <td>C. Ronaldo dos Santos Aveiro</td>\n",
       "      <td>http://sofifa.com/player/20801/c-ronaldo-dos-s...</td>\n",
       "      <td>Portugal</td>\n",
       "      <td>ST LW</td>\n",
       "      <td>Cristiano Ronaldo</td>\n",
       "      <td>35</td>\n",
       "      <td>92</td>\n",
       "      <td>92</td>\n",
       "      <td>\\n\\n\\n\\nJuventus\\n2018 ~ 2022\\n\\n</td>\n",
       "      <td>...</td>\n",
       "      <td>High</td>\n",
       "      <td>Low</td>\n",
       "      <td>5 ★</td>\n",
       "      <td>89</td>\n",
       "      <td>93</td>\n",
       "      <td>81</td>\n",
       "      <td>89</td>\n",
       "      <td>35</td>\n",
       "      <td>77</td>\n",
       "      <td>\\n344</td>\n",
       "    </tr>\n",
       "    <tr>\n",
       "      <th>2</th>\n",
       "      <td>https://cdn.sofifa.com/players/200/389/21_60.png</td>\n",
       "      <td>Jan Oblak</td>\n",
       "      <td>http://sofifa.com/player/200389/jan-oblak/210005/</td>\n",
       "      <td>Slovenia</td>\n",
       "      <td>GK</td>\n",
       "      <td>J. Oblak</td>\n",
       "      <td>27</td>\n",
       "      <td>91</td>\n",
       "      <td>93</td>\n",
       "      <td>\\n\\n\\n\\nAtlético Madrid\\n2014 ~ 2023\\n\\n</td>\n",
       "      <td>...</td>\n",
       "      <td>Medium</td>\n",
       "      <td>Medium</td>\n",
       "      <td>3 ★</td>\n",
       "      <td>87</td>\n",
       "      <td>92</td>\n",
       "      <td>78</td>\n",
       "      <td>90</td>\n",
       "      <td>52</td>\n",
       "      <td>90</td>\n",
       "      <td>\\n86</td>\n",
       "    </tr>\n",
       "    <tr>\n",
       "      <th>3</th>\n",
       "      <td>https://cdn.sofifa.com/players/192/985/21_60.png</td>\n",
       "      <td>Kevin De Bruyne</td>\n",
       "      <td>http://sofifa.com/player/192985/kevin-de-bruyn...</td>\n",
       "      <td>Belgium</td>\n",
       "      <td>CAM CM</td>\n",
       "      <td>K. De Bruyne</td>\n",
       "      <td>29</td>\n",
       "      <td>91</td>\n",
       "      <td>91</td>\n",
       "      <td>\\n\\n\\n\\nManchester City\\n2015 ~ 2023\\n\\n</td>\n",
       "      <td>...</td>\n",
       "      <td>High</td>\n",
       "      <td>High</td>\n",
       "      <td>4 ★</td>\n",
       "      <td>76</td>\n",
       "      <td>86</td>\n",
       "      <td>93</td>\n",
       "      <td>88</td>\n",
       "      <td>64</td>\n",
       "      <td>78</td>\n",
       "      <td>\\n163</td>\n",
       "    </tr>\n",
       "    <tr>\n",
       "      <th>4</th>\n",
       "      <td>https://cdn.sofifa.com/players/190/871/21_60.png</td>\n",
       "      <td>Neymar da Silva Santos Jr.</td>\n",
       "      <td>http://sofifa.com/player/190871/neymar-da-silv...</td>\n",
       "      <td>Brazil</td>\n",
       "      <td>LW CAM</td>\n",
       "      <td>Neymar Jr</td>\n",
       "      <td>28</td>\n",
       "      <td>91</td>\n",
       "      <td>91</td>\n",
       "      <td>\\n\\n\\n\\nParis Saint-Germain\\n2017 ~ 2022\\n\\n</td>\n",
       "      <td>...</td>\n",
       "      <td>High</td>\n",
       "      <td>Medium</td>\n",
       "      <td>5 ★</td>\n",
       "      <td>91</td>\n",
       "      <td>85</td>\n",
       "      <td>86</td>\n",
       "      <td>94</td>\n",
       "      <td>36</td>\n",
       "      <td>59</td>\n",
       "      <td>\\n273</td>\n",
       "    </tr>\n",
       "  </tbody>\n",
       "</table>\n",
       "<p>5 rows × 77 columns</p>\n",
       "</div>"
      ],
      "text/plain": [
       "                                           photoUrl  \\\n",
       "0  https://cdn.sofifa.com/players/158/023/21_60.png   \n",
       "1  https://cdn.sofifa.com/players/020/801/21_60.png   \n",
       "2  https://cdn.sofifa.com/players/200/389/21_60.png   \n",
       "3  https://cdn.sofifa.com/players/192/985/21_60.png   \n",
       "4  https://cdn.sofifa.com/players/190/871/21_60.png   \n",
       "\n",
       "                       LongName  \\\n",
       "0                  Lionel Messi   \n",
       "1  C. Ronaldo dos Santos Aveiro   \n",
       "2                     Jan Oblak   \n",
       "3               Kevin De Bruyne   \n",
       "4    Neymar da Silva Santos Jr.   \n",
       "\n",
       "                                           playerUrl Nationality Positions  \\\n",
       "0  http://sofifa.com/player/158023/lionel-messi/2...   Argentina  RW ST CF   \n",
       "1  http://sofifa.com/player/20801/c-ronaldo-dos-s...    Portugal     ST LW   \n",
       "2  http://sofifa.com/player/200389/jan-oblak/210005/    Slovenia        GK   \n",
       "3  http://sofifa.com/player/192985/kevin-de-bruyn...     Belgium    CAM CM   \n",
       "4  http://sofifa.com/player/190871/neymar-da-silv...      Brazil    LW CAM   \n",
       "\n",
       "                Name  Age  ↓OVA  POT  \\\n",
       "0           L. Messi   33    93   93   \n",
       "1  Cristiano Ronaldo   35    92   92   \n",
       "2           J. Oblak   27    91   93   \n",
       "3       K. De Bruyne   29    91   91   \n",
       "4          Neymar Jr   28    91   91   \n",
       "\n",
       "                                Team & Contract  ...     A/W     D/W   IR PAC  \\\n",
       "0         \\n\\n\\n\\nFC Barcelona\\n2004 ~ 2021\\n\\n  ...  Medium     Low  5 ★  85   \n",
       "1             \\n\\n\\n\\nJuventus\\n2018 ~ 2022\\n\\n  ...    High     Low  5 ★  89   \n",
       "2      \\n\\n\\n\\nAtlético Madrid\\n2014 ~ 2023\\n\\n  ...  Medium  Medium  3 ★  87   \n",
       "3      \\n\\n\\n\\nManchester City\\n2015 ~ 2023\\n\\n  ...    High    High  4 ★  76   \n",
       "4  \\n\\n\\n\\nParis Saint-Germain\\n2017 ~ 2022\\n\\n  ...    High  Medium  5 ★  91   \n",
       "\n",
       "   SHO PAS  DRI DEF PHY   Hits  \n",
       "0   92  91   95  38  65  \\n372  \n",
       "1   93  81   89  35  77  \\n344  \n",
       "2   92  78   90  52  90   \\n86  \n",
       "3   86  93   88  64  78  \\n163  \n",
       "4   85  86   94  36  59  \\n273  \n",
       "\n",
       "[5 rows x 77 columns]"
      ]
     },
     "execution_count": 61,
     "metadata": {},
     "output_type": "execute_result"
    }
   ],
   "source": [
    "df.head()"
   ]
  },
  {
   "cell_type": "markdown",
   "id": "d5f4286f-fc26-4bb8-ba66-1aa9670db293",
   "metadata": {},
   "source": [
    "#### Display the Shape of the dataset"
   ]
  },
  {
   "cell_type": "code",
   "execution_count": 62,
   "id": "08636ed3-56d4-4cdf-b79b-8df7d02ff6d2",
   "metadata": {},
   "outputs": [
    {
     "data": {
      "text/plain": [
       "(18979, 77)"
      ]
     },
     "execution_count": 62,
     "metadata": {},
     "output_type": "execute_result"
    }
   ],
   "source": [
    "df.shape"
   ]
  },
  {
   "cell_type": "markdown",
   "id": "78090bd9-11be-49c5-a318-05697e7f7304",
   "metadata": {},
   "source": [
    "#### Display Column Names"
   ]
  },
  {
   "cell_type": "code",
   "execution_count": 63,
   "id": "9d1fe7f7-517a-47cf-86a7-5a0e821b4a07",
   "metadata": {},
   "outputs": [
    {
     "data": {
      "text/plain": [
       "Index(['photoUrl', 'LongName', 'playerUrl', 'Nationality', 'Positions', 'Name',\n",
       "       'Age', '↓OVA', 'POT', 'Team & Contract', 'ID', 'Height', 'Weight',\n",
       "       'foot', 'BOV', 'BP', 'Growth', 'Joined', 'Loan Date End', 'Value',\n",
       "       'Wage', 'Release Clause', 'Attacking', 'Crossing', 'Finishing',\n",
       "       'Heading Accuracy', 'Short Passing', 'Volleys', 'Skill', 'Dribbling',\n",
       "       'Curve', 'FK Accuracy', 'Long Passing', 'Ball Control', 'Movement',\n",
       "       'Acceleration', 'Sprint Speed', 'Agility', 'Reactions', 'Balance',\n",
       "       'Power', 'Shot Power', 'Jumping', 'Stamina', 'Strength', 'Long Shots',\n",
       "       'Mentality', 'Aggression', 'Interceptions', 'Positioning', 'Vision',\n",
       "       'Penalties', 'Composure', 'Defending', 'Marking', 'Standing Tackle',\n",
       "       'Sliding Tackle', 'Goalkeeping', 'GK Diving', 'GK Handling',\n",
       "       'GK Kicking', 'GK Positioning', 'GK Reflexes', 'Total Stats',\n",
       "       'Base Stats', 'W/F', 'SM', 'A/W', 'D/W', 'IR', 'PAC', 'SHO', 'PAS',\n",
       "       'DRI', 'DEF', 'PHY', 'Hits'],\n",
       "      dtype='object')"
      ]
     },
     "execution_count": 63,
     "metadata": {},
     "output_type": "execute_result"
    }
   ],
   "source": [
    "df.columns"
   ]
  },
  {
   "cell_type": "markdown",
   "id": "a19deb67-55f3-4ba1-99ac-639879259a78",
   "metadata": {},
   "source": [
    "#### Display basic information about the dataset\r\n"
   ]
  },
  {
   "cell_type": "code",
   "execution_count": 64,
   "id": "f35b5251-1567-4714-a888-ed7fe20064fc",
   "metadata": {},
   "outputs": [
    {
     "name": "stdout",
     "output_type": "stream",
     "text": [
      "<class 'pandas.core.frame.DataFrame'>\n",
      "RangeIndex: 18979 entries, 0 to 18978\n",
      "Data columns (total 77 columns):\n",
      " #   Column            Non-Null Count  Dtype \n",
      "---  ------            --------------  ----- \n",
      " 0   photoUrl          18979 non-null  object\n",
      " 1   LongName          18979 non-null  object\n",
      " 2   playerUrl         18979 non-null  object\n",
      " 3   Nationality       18979 non-null  object\n",
      " 4   Positions         18979 non-null  object\n",
      " 5   Name              18979 non-null  object\n",
      " 6   Age               18979 non-null  int64 \n",
      " 7   ↓OVA              18979 non-null  int64 \n",
      " 8   POT               18979 non-null  int64 \n",
      " 9   Team & Contract   18979 non-null  object\n",
      " 10  ID                18979 non-null  int64 \n",
      " 11  Height            18979 non-null  object\n",
      " 12  Weight            18979 non-null  object\n",
      " 13  foot              18979 non-null  object\n",
      " 14  BOV               18979 non-null  int64 \n",
      " 15  BP                18979 non-null  object\n",
      " 16  Growth            18979 non-null  int64 \n",
      " 17  Joined            18979 non-null  object\n",
      " 18  Loan Date End     1013 non-null   object\n",
      " 19  Value             18979 non-null  object\n",
      " 20  Wage              18979 non-null  object\n",
      " 21  Release Clause    18979 non-null  object\n",
      " 22  Attacking         18979 non-null  int64 \n",
      " 23  Crossing          18979 non-null  int64 \n",
      " 24  Finishing         18979 non-null  int64 \n",
      " 25  Heading Accuracy  18979 non-null  int64 \n",
      " 26  Short Passing     18979 non-null  int64 \n",
      " 27  Volleys           18979 non-null  int64 \n",
      " 28  Skill             18979 non-null  int64 \n",
      " 29  Dribbling         18979 non-null  int64 \n",
      " 30  Curve             18979 non-null  int64 \n",
      " 31  FK Accuracy       18979 non-null  int64 \n",
      " 32  Long Passing      18979 non-null  int64 \n",
      " 33  Ball Control      18979 non-null  int64 \n",
      " 34  Movement          18979 non-null  int64 \n",
      " 35  Acceleration      18979 non-null  int64 \n",
      " 36  Sprint Speed      18979 non-null  int64 \n",
      " 37  Agility           18979 non-null  int64 \n",
      " 38  Reactions         18979 non-null  int64 \n",
      " 39  Balance           18979 non-null  int64 \n",
      " 40  Power             18979 non-null  int64 \n",
      " 41  Shot Power        18979 non-null  int64 \n",
      " 42  Jumping           18979 non-null  int64 \n",
      " 43  Stamina           18979 non-null  int64 \n",
      " 44  Strength          18979 non-null  int64 \n",
      " 45  Long Shots        18979 non-null  int64 \n",
      " 46  Mentality         18979 non-null  int64 \n",
      " 47  Aggression        18979 non-null  int64 \n",
      " 48  Interceptions     18979 non-null  int64 \n",
      " 49  Positioning       18979 non-null  int64 \n",
      " 50  Vision            18979 non-null  int64 \n",
      " 51  Penalties         18979 non-null  int64 \n",
      " 52  Composure         18979 non-null  int64 \n",
      " 53  Defending         18979 non-null  int64 \n",
      " 54  Marking           18979 non-null  int64 \n",
      " 55  Standing Tackle   18979 non-null  int64 \n",
      " 56  Sliding Tackle    18979 non-null  int64 \n",
      " 57  Goalkeeping       18979 non-null  int64 \n",
      " 58  GK Diving         18979 non-null  int64 \n",
      " 59  GK Handling       18979 non-null  int64 \n",
      " 60  GK Kicking        18979 non-null  int64 \n",
      " 61  GK Positioning    18979 non-null  int64 \n",
      " 62  GK Reflexes       18979 non-null  int64 \n",
      " 63  Total Stats       18979 non-null  int64 \n",
      " 64  Base Stats        18979 non-null  int64 \n",
      " 65  W/F               18979 non-null  object\n",
      " 66  SM                18979 non-null  object\n",
      " 67  A/W               18979 non-null  object\n",
      " 68  D/W               18979 non-null  object\n",
      " 69  IR                18979 non-null  object\n",
      " 70  PAC               18979 non-null  int64 \n",
      " 71  SHO               18979 non-null  int64 \n",
      " 72  PAS               18979 non-null  int64 \n",
      " 73  DRI               18979 non-null  int64 \n",
      " 74  DEF               18979 non-null  int64 \n",
      " 75  PHY               18979 non-null  int64 \n",
      " 76  Hits              18979 non-null  object\n",
      "dtypes: int64(55), object(22)\n",
      "memory usage: 11.1+ MB\n"
     ]
    }
   ],
   "source": [
    "df.info()"
   ]
  },
  {
   "cell_type": "markdown",
   "id": "9c457def-cdd0-4e9a-958e-19224e2c8d8e",
   "metadata": {},
   "source": [
    "- We've observed numerous columns of object type, and it would be more beneficial to represent them as integer or date types. Specifically, we'll address the columns `Team & Contract`, `Loan Date End`, `Height`, `Weight`, `Joined`, `Value`, `Wage`, `Release Clause`, `W/F`, `SM`, `IR`, and `Hits`.\n"
   ]
  },
  {
   "cell_type": "markdown",
   "id": "a1c2f2cd-9617-4ef7-99ba-5086ebbfdc0c",
   "metadata": {},
   "source": [
    "## Comprehensive Data Cleaning and Transformation Pipeline"
   ]
  },
  {
   "cell_type": "markdown",
   "id": "e59637e9-5062-4dc1-b8cd-d47ffd01635c",
   "metadata": {},
   "source": [
    "### Data Cleaning and Transformation\n"
   ]
  },
  {
   "cell_type": "code",
   "execution_count": 65,
   "id": "6cb6fb40-61cb-4a6e-bdd8-f8df212fe688",
   "metadata": {},
   "outputs": [],
   "source": [
    "# Convert 'Joined' and 'Loan Date End' to DateTime\n",
    "df['Joined'] = pd.to_datetime(df['Joined'])\n",
    "df['Loan Date End'] = pd.to_datetime(df['Loan Date End'])"
   ]
  },
  {
   "cell_type": "code",
   "execution_count": 66,
   "id": "8cc005af-c738-4f34-8713-67234cfdfecd",
   "metadata": {},
   "outputs": [],
   "source": [
    "# Extract year, month, and day into separate columns\n",
    "df['Joined_Year'] = df['Joined'].dt.year\n",
    "df['Joined_Month'] = df['Joined'].dt.month\n",
    "df['Joined_Day'] = df['Joined'].dt.day"
   ]
  },
  {
   "cell_type": "code",
   "execution_count": 67,
   "id": "9318e61c-c069-42ec-b09d-4f84a13d4c76",
   "metadata": {},
   "outputs": [],
   "source": [
    "# Convert 'Height' and 'Weight' to Centimeters and Kilograms\n",
    "df['Height(cm)'] = df['Height'].apply(lambda height: round(int(height[:-1].split(\"'\")[0]) * 30.48 + int(height[:-1].split(\"'\")[1]) * 2.54, 2))\n",
    "df['Weight(kg)'] = df['Weight'].apply(lambda x: round(pd.to_numeric(x.replace('lbs', ''), errors='coerce') * 0.453592, 2))"
   ]
  },
  {
   "cell_type": "code",
   "execution_count": 68,
   "id": "1b0e6be6-a575-4493-819e-7303699827f8",
   "metadata": {},
   "outputs": [],
   "source": [
    "#Convert Monetary Values to Numeric\n",
    "df['Value'] = df['Value'].str.replace(r'[^0-9.]', '', regex=True).astype(float)* 1e6  # 1e6 = M \n",
    "df['Wage'] = df['Wage'].str.replace(r'[^0-9.]', '', regex=True).astype(float)* 1e3    # 1e3 = K\n",
    "df['Release Clause'] = df['Release Clause'].str.replace(r'[^0-9.]', '', regex=True).astype(float)"
   ]
  },
  {
   "cell_type": "code",
   "execution_count": 69,
   "id": "a70f3768-5246-4f26-8c81-55db33202cf5",
   "metadata": {},
   "outputs": [],
   "source": [
    "# Convert 'Hits' to Numeric\n",
    "df['Hits'] = pd.to_numeric(df['Hits'], errors='coerce')"
   ]
  },
  {
   "cell_type": "code",
   "execution_count": 70,
   "id": "833bbff6-6d5d-4d12-bd95-4c77eea7e2bb",
   "metadata": {},
   "outputs": [],
   "source": [
    "# Remove leading and trailing whitespaces\n",
    "df['Team & Contract'] = df['Team & Contract'].str.strip()\n",
    "\n",
    "# Split the 'Team & Contract' column into two separate columns\n",
    "df[['Team', 'Contract']] = df['Team & Contract'].str.split('\\n', expand=True)"
   ]
  },
  {
   "cell_type": "code",
   "execution_count": 71,
   "id": "1ef391d6-9b8c-4b8c-b68e-0f93a50c3c54",
   "metadata": {},
   "outputs": [],
   "source": [
    "# Convert Categorical Columns\n",
    "df['W/F'] = df['W/F'].astype('category')\n",
    "df['SM'] = df['SM'].astype('category')\n",
    "df['IR'] = df['IR'].astype('category')"
   ]
  },
  {
   "cell_type": "code",
   "execution_count": 72,
   "id": "8c885bb4-203e-4dee-bb56-d05143e4c844",
   "metadata": {},
   "outputs": [],
   "source": [
    "# Drop Unnecessary Columns\n",
    "df = df.drop(['Team & Contract', 'Joined','Height','Weight'], axis=1)"
   ]
  },
  {
   "cell_type": "markdown",
   "id": "3af69de1-d818-4e0c-ae1f-abc7b1e29514",
   "metadata": {},
   "source": [
    "### Handling Missing Values\r\n",
    "\n"
   ]
  },
  {
   "cell_type": "code",
   "execution_count": 73,
   "id": "2412a192-c2c1-4474-8845-dea4ca6f7235",
   "metadata": {},
   "outputs": [
    {
     "data": {
      "text/plain": [
       "photoUrl       0\n",
       "LongName       0\n",
       "playerUrl      0\n",
       "Nationality    0\n",
       "Positions      0\n",
       "              ..\n",
       "Joined_Day     0\n",
       "Height(cm)     0\n",
       "Weight(kg)     0\n",
       "Team           0\n",
       "Contract       0\n",
       "Length: 80, dtype: int64"
      ]
     },
     "execution_count": 73,
     "metadata": {},
     "output_type": "execute_result"
    }
   ],
   "source": [
    "# Check the number of missing values in each column\n",
    "df.isna().sum()"
   ]
  },
  {
   "cell_type": "code",
   "execution_count": 74,
   "id": "d9b837dc-9347-4ebe-a27f-33c7db659abb",
   "metadata": {},
   "outputs": [
    {
     "data": {
      "text/plain": [
       "17981"
      ]
     },
     "execution_count": 74,
     "metadata": {},
     "output_type": "execute_result"
    }
   ],
   "source": [
    "# Check the total number of missing values in the entire DataFrame\n",
    "df.isnull().sum().sum()"
   ]
  },
  {
   "cell_type": "code",
   "execution_count": 75,
   "id": "ecf12a7e-7c49-4a76-9787-78203b1f50f6",
   "metadata": {},
   "outputs": [
    {
     "name": "stdout",
     "output_type": "stream",
     "text": [
      "Loan Date End    17966\n",
      "Hits                15\n",
      "dtype: int64\n"
     ]
    }
   ],
   "source": [
    "# Get a Series of missing values count for each column\n",
    "missing_values = df.isnull().sum()\n",
    "# Print columns with missing values (count > 0)\n",
    "print(missing_values[missing_values > 0])"
   ]
  },
  {
   "cell_type": "code",
   "execution_count": 76,
   "id": "29dbe0f1-8d4f-4edf-9d3e-689af22ba99b",
   "metadata": {},
   "outputs": [
    {
     "data": {
      "text/plain": [
       "94.6625217345487"
      ]
     },
     "execution_count": 76,
     "metadata": {},
     "output_type": "execute_result"
    }
   ],
   "source": [
    "# Calculate the percentage of missing values in the 'Loan Date End' column\n",
    "df['Loan Date End'].isnull().mean() * 100"
   ]
  },
  {
   "cell_type": "code",
   "execution_count": 77,
   "id": "b221514f-5a5d-4f39-990e-7d2b5cd6eedd",
   "metadata": {},
   "outputs": [
    {
     "data": {
      "text/plain": [
       "0.07903472258812372"
      ]
     },
     "execution_count": 77,
     "metadata": {},
     "output_type": "execute_result"
    }
   ],
   "source": [
    "# Calculate the percentage of missing values in the 'Hits' column\n",
    "df['Hits'].isnull().mean() * 100"
   ]
  },
  {
   "cell_type": "markdown",
   "id": "30c1fed6-7813-4a00-a2e6-97f670eb17ea",
   "metadata": {},
   "source": [
    "- The 'Loan Date End' column provides insight, indicating that approximately 5% of the players in this dataset are currently on loan."
   ]
  },
  {
   "cell_type": "code",
   "execution_count": 78,
   "id": "27525a7a-267f-4129-a526-bc6c8c22e51a",
   "metadata": {},
   "outputs": [
    {
     "data": {
      "text/plain": [
       "99     NaN\n",
       "245    NaN\n",
       "279    NaN\n",
       "688    NaN\n",
       "694    NaN\n",
       "1273   NaN\n",
       "1399   NaN\n",
       "3673   NaN\n",
       "4045   NaN\n",
       "4064   NaN\n",
       "4117   NaN\n",
       "4680   NaN\n",
       "6203   NaN\n",
       "8126   NaN\n",
       "9707   NaN\n",
       "Name: Hits, dtype: float64"
      ]
     },
     "execution_count": 78,
     "metadata": {},
     "output_type": "execute_result"
    }
   ],
   "source": [
    "# Display rows where 'Hits' column is null\n",
    "df.loc[df['Hits'].isnull() == True]['Hits']"
   ]
  },
  {
   "cell_type": "code",
   "execution_count": 79,
   "id": "37e3e499-2352-4cdb-addd-37c449058492",
   "metadata": {},
   "outputs": [],
   "source": [
    "# Drop rows with null values in the 'Hits' column\n",
    "df.dropna(subset=['Hits'], inplace=True)"
   ]
  },
  {
   "cell_type": "code",
   "execution_count": 80,
   "id": "515173d6-8336-494f-83a0-7e5ae73f5dc7",
   "metadata": {},
   "outputs": [
    {
     "data": {
      "text/plain": [
       "0.0"
      ]
     },
     "execution_count": 80,
     "metadata": {},
     "output_type": "execute_result"
    }
   ],
   "source": [
    "# Re-check the percentage of missing values in the 'Hits' column after dropping\n",
    "df['Hits'].isnull().mean() * 100"
   ]
  },
  {
   "cell_type": "markdown",
   "id": "d93bc9db-b169-44b1-b7f4-2f07079a7528",
   "metadata": {},
   "source": [
    "### Duplicate Removal\n"
   ]
  },
  {
   "cell_type": "code",
   "execution_count": 81,
   "id": "3897d5c1-e014-4429-992b-38db9377a521",
   "metadata": {},
   "outputs": [
    {
     "data": {
      "text/plain": [
       "1"
      ]
     },
     "execution_count": 81,
     "metadata": {},
     "output_type": "execute_result"
    }
   ],
   "source": [
    "# Check and print the number of duplicated rows in the DataFrame\n",
    "df.duplicated().sum()"
   ]
  },
  {
   "cell_type": "code",
   "execution_count": 82,
   "id": "2e62eca0-aa3e-449b-8710-213fa72fdca0",
   "metadata": {},
   "outputs": [
    {
     "data": {
      "text/html": [
       "<div>\n",
       "<style scoped>\n",
       "    .dataframe tbody tr th:only-of-type {\n",
       "        vertical-align: middle;\n",
       "    }\n",
       "\n",
       "    .dataframe tbody tr th {\n",
       "        vertical-align: top;\n",
       "    }\n",
       "\n",
       "    .dataframe thead th {\n",
       "        text-align: right;\n",
       "    }\n",
       "</style>\n",
       "<table border=\"1\" class=\"dataframe\">\n",
       "  <thead>\n",
       "    <tr style=\"text-align: right;\">\n",
       "      <th></th>\n",
       "      <th>photoUrl</th>\n",
       "      <th>LongName</th>\n",
       "      <th>playerUrl</th>\n",
       "      <th>Nationality</th>\n",
       "      <th>Positions</th>\n",
       "      <th>Name</th>\n",
       "      <th>Age</th>\n",
       "      <th>↓OVA</th>\n",
       "      <th>POT</th>\n",
       "      <th>ID</th>\n",
       "      <th>...</th>\n",
       "      <th>DEF</th>\n",
       "      <th>PHY</th>\n",
       "      <th>Hits</th>\n",
       "      <th>Joined_Year</th>\n",
       "      <th>Joined_Month</th>\n",
       "      <th>Joined_Day</th>\n",
       "      <th>Height(cm)</th>\n",
       "      <th>Weight(kg)</th>\n",
       "      <th>Team</th>\n",
       "      <th>Contract</th>\n",
       "    </tr>\n",
       "  </thead>\n",
       "  <tbody>\n",
       "    <tr>\n",
       "      <th>899</th>\n",
       "      <td>https://cdn.sofifa.com/players/251/698/21_60.png</td>\n",
       "      <td>Kevin Berlaso</td>\n",
       "      <td>http://sofifa.com/player/251698/kevin-berlaso/...</td>\n",
       "      <td>Ecuador</td>\n",
       "      <td>RB</td>\n",
       "      <td>K. Berlaso</td>\n",
       "      <td>32</td>\n",
       "      <td>77</td>\n",
       "      <td>77</td>\n",
       "      <td>251698</td>\n",
       "      <td>...</td>\n",
       "      <td>72</td>\n",
       "      <td>68</td>\n",
       "      <td>12.0</td>\n",
       "      <td>2010</td>\n",
       "      <td>1</td>\n",
       "      <td>1</td>\n",
       "      <td>172.72</td>\n",
       "      <td>68.95</td>\n",
       "      <td>Ecuador</td>\n",
       "      <td>Free</td>\n",
       "    </tr>\n",
       "    <tr>\n",
       "      <th>944</th>\n",
       "      <td>https://cdn.sofifa.com/players/251/698/21_60.png</td>\n",
       "      <td>Kevin Berlaso</td>\n",
       "      <td>http://sofifa.com/player/251698/kevin-berlaso/...</td>\n",
       "      <td>Ecuador</td>\n",
       "      <td>RB</td>\n",
       "      <td>K. Berlaso</td>\n",
       "      <td>32</td>\n",
       "      <td>77</td>\n",
       "      <td>77</td>\n",
       "      <td>251698</td>\n",
       "      <td>...</td>\n",
       "      <td>72</td>\n",
       "      <td>68</td>\n",
       "      <td>12.0</td>\n",
       "      <td>2010</td>\n",
       "      <td>1</td>\n",
       "      <td>1</td>\n",
       "      <td>172.72</td>\n",
       "      <td>68.95</td>\n",
       "      <td>Ecuador</td>\n",
       "      <td>Free</td>\n",
       "    </tr>\n",
       "  </tbody>\n",
       "</table>\n",
       "<p>2 rows × 80 columns</p>\n",
       "</div>"
      ],
      "text/plain": [
       "                                             photoUrl       LongName  \\\n",
       "899  https://cdn.sofifa.com/players/251/698/21_60.png  Kevin Berlaso   \n",
       "944  https://cdn.sofifa.com/players/251/698/21_60.png  Kevin Berlaso   \n",
       "\n",
       "                                             playerUrl Nationality Positions  \\\n",
       "899  http://sofifa.com/player/251698/kevin-berlaso/...     Ecuador        RB   \n",
       "944  http://sofifa.com/player/251698/kevin-berlaso/...     Ecuador        RB   \n",
       "\n",
       "           Name  Age  ↓OVA  POT      ID  ... DEF  PHY  Hits  Joined_Year  \\\n",
       "899  K. Berlaso   32    77   77  251698  ...  72   68  12.0         2010   \n",
       "944  K. Berlaso   32    77   77  251698  ...  72   68  12.0         2010   \n",
       "\n",
       "    Joined_Month  Joined_Day  Height(cm)  Weight(kg)     Team  Contract  \n",
       "899            1           1      172.72       68.95  Ecuador      Free  \n",
       "944            1           1      172.72       68.95  Ecuador      Free  \n",
       "\n",
       "[2 rows x 80 columns]"
      ]
     },
     "execution_count": 82,
     "metadata": {},
     "output_type": "execute_result"
    }
   ],
   "source": [
    "# Display rows where duplicate records are found\n",
    "df[df.duplicated(keep= False) == True]"
   ]
  },
  {
   "cell_type": "code",
   "execution_count": 83,
   "id": "00b4d68e-e94a-4027-9632-73e3be509877",
   "metadata": {},
   "outputs": [],
   "source": [
    "# Drop duplicate rows from the DataFrame\n",
    "df.drop_duplicates(inplace= True)"
   ]
  },
  {
   "cell_type": "code",
   "execution_count": 84,
   "id": "23969ac2-3be7-437b-9ba9-39049217c42d",
   "metadata": {},
   "outputs": [
    {
     "data": {
      "text/plain": [
       "0"
      ]
     },
     "execution_count": 84,
     "metadata": {},
     "output_type": "execute_result"
    }
   ],
   "source": [
    "# Re-check the number of duplicated rows after dropping\n",
    "df.duplicated().sum()"
   ]
  },
  {
   "cell_type": "markdown",
   "id": "09f79a7d-5fac-4f05-8706-451073fe896a",
   "metadata": {},
   "source": [
    "### Column Reordering"
   ]
  },
  {
   "cell_type": "code",
   "execution_count": 85,
   "id": "06052023-5acd-4c02-84fc-db72b8c869fa",
   "metadata": {},
   "outputs": [],
   "source": [
    "# Change the order of the columns based on the provided instructions.\n",
    "df = df[['ID','Name', 'LongName','photoUrl','playerUrl', 'Nationality', 'Positions',\n",
    "       'Age', '↓OVA', 'POT', 'Team', 'Contract',  'Height(cm)', 'Weight(kg)', 'foot', 'BOV', 'BP',\n",
    "       'Growth', 'Joined_Year', 'Joined_Month','Joined_Day', 'Loan Date End', 'Value', 'Wage', 'Release Clause',\n",
    "       'Attacking', 'Crossing', 'Finishing', 'Heading Accuracy',\n",
    "       'Short Passing', 'Volleys', 'Skill', 'Dribbling', 'Curve',\n",
    "       'FK Accuracy', 'Long Passing', 'Ball Control', 'Movement',\n",
    "       'Acceleration', 'Sprint Speed', 'Agility', 'Reactions', 'Balance',\n",
    "       'Power', 'Shot Power', 'Jumping', 'Stamina', 'Strength', 'Long Shots',\n",
    "       'Mentality', 'Aggression', 'Interceptions', 'Positioning', 'Vision',\n",
    "       'Penalties', 'Composure', 'Defending', 'Marking', 'Standing Tackle',\n",
    "       'Sliding Tackle', 'Goalkeeping', 'GK Diving', 'GK Handling',\n",
    "       'GK Kicking', 'GK Positioning', 'GK Reflexes', 'Total Stats',\n",
    "       'Base Stats', 'W/F', 'SM', 'A/W', 'D/W', 'IR', 'PAC', 'SHO', 'PAS',\n",
    "       'DRI', 'DEF', 'PHY', 'Hits']]"
   ]
  },
  {
   "cell_type": "code",
   "execution_count": 86,
   "id": "4f1270fe-c5f2-4bc2-9cf5-8fb9b4b2f16f",
   "metadata": {},
   "outputs": [
    {
     "data": {
      "text/html": [
       "<div>\n",
       "<style scoped>\n",
       "    .dataframe tbody tr th:only-of-type {\n",
       "        vertical-align: middle;\n",
       "    }\n",
       "\n",
       "    .dataframe tbody tr th {\n",
       "        vertical-align: top;\n",
       "    }\n",
       "\n",
       "    .dataframe thead th {\n",
       "        text-align: right;\n",
       "    }\n",
       "</style>\n",
       "<table border=\"1\" class=\"dataframe\">\n",
       "  <thead>\n",
       "    <tr style=\"text-align: right;\">\n",
       "      <th></th>\n",
       "      <th>ID</th>\n",
       "      <th>Name</th>\n",
       "      <th>LongName</th>\n",
       "      <th>photoUrl</th>\n",
       "      <th>playerUrl</th>\n",
       "      <th>Nationality</th>\n",
       "      <th>Positions</th>\n",
       "      <th>Age</th>\n",
       "      <th>↓OVA</th>\n",
       "      <th>POT</th>\n",
       "      <th>...</th>\n",
       "      <th>A/W</th>\n",
       "      <th>D/W</th>\n",
       "      <th>IR</th>\n",
       "      <th>PAC</th>\n",
       "      <th>SHO</th>\n",
       "      <th>PAS</th>\n",
       "      <th>DRI</th>\n",
       "      <th>DEF</th>\n",
       "      <th>PHY</th>\n",
       "      <th>Hits</th>\n",
       "    </tr>\n",
       "  </thead>\n",
       "  <tbody>\n",
       "    <tr>\n",
       "      <th>0</th>\n",
       "      <td>158023</td>\n",
       "      <td>L. Messi</td>\n",
       "      <td>Lionel Messi</td>\n",
       "      <td>https://cdn.sofifa.com/players/158/023/21_60.png</td>\n",
       "      <td>http://sofifa.com/player/158023/lionel-messi/2...</td>\n",
       "      <td>Argentina</td>\n",
       "      <td>RW ST CF</td>\n",
       "      <td>33</td>\n",
       "      <td>93</td>\n",
       "      <td>93</td>\n",
       "      <td>...</td>\n",
       "      <td>Medium</td>\n",
       "      <td>Low</td>\n",
       "      <td>5 ★</td>\n",
       "      <td>85</td>\n",
       "      <td>92</td>\n",
       "      <td>91</td>\n",
       "      <td>95</td>\n",
       "      <td>38</td>\n",
       "      <td>65</td>\n",
       "      <td>372.0</td>\n",
       "    </tr>\n",
       "    <tr>\n",
       "      <th>1</th>\n",
       "      <td>20801</td>\n",
       "      <td>Cristiano Ronaldo</td>\n",
       "      <td>C. Ronaldo dos Santos Aveiro</td>\n",
       "      <td>https://cdn.sofifa.com/players/020/801/21_60.png</td>\n",
       "      <td>http://sofifa.com/player/20801/c-ronaldo-dos-s...</td>\n",
       "      <td>Portugal</td>\n",
       "      <td>ST LW</td>\n",
       "      <td>35</td>\n",
       "      <td>92</td>\n",
       "      <td>92</td>\n",
       "      <td>...</td>\n",
       "      <td>High</td>\n",
       "      <td>Low</td>\n",
       "      <td>5 ★</td>\n",
       "      <td>89</td>\n",
       "      <td>93</td>\n",
       "      <td>81</td>\n",
       "      <td>89</td>\n",
       "      <td>35</td>\n",
       "      <td>77</td>\n",
       "      <td>344.0</td>\n",
       "    </tr>\n",
       "    <tr>\n",
       "      <th>2</th>\n",
       "      <td>200389</td>\n",
       "      <td>J. Oblak</td>\n",
       "      <td>Jan Oblak</td>\n",
       "      <td>https://cdn.sofifa.com/players/200/389/21_60.png</td>\n",
       "      <td>http://sofifa.com/player/200389/jan-oblak/210005/</td>\n",
       "      <td>Slovenia</td>\n",
       "      <td>GK</td>\n",
       "      <td>27</td>\n",
       "      <td>91</td>\n",
       "      <td>93</td>\n",
       "      <td>...</td>\n",
       "      <td>Medium</td>\n",
       "      <td>Medium</td>\n",
       "      <td>3 ★</td>\n",
       "      <td>87</td>\n",
       "      <td>92</td>\n",
       "      <td>78</td>\n",
       "      <td>90</td>\n",
       "      <td>52</td>\n",
       "      <td>90</td>\n",
       "      <td>86.0</td>\n",
       "    </tr>\n",
       "    <tr>\n",
       "      <th>3</th>\n",
       "      <td>192985</td>\n",
       "      <td>K. De Bruyne</td>\n",
       "      <td>Kevin De Bruyne</td>\n",
       "      <td>https://cdn.sofifa.com/players/192/985/21_60.png</td>\n",
       "      <td>http://sofifa.com/player/192985/kevin-de-bruyn...</td>\n",
       "      <td>Belgium</td>\n",
       "      <td>CAM CM</td>\n",
       "      <td>29</td>\n",
       "      <td>91</td>\n",
       "      <td>91</td>\n",
       "      <td>...</td>\n",
       "      <td>High</td>\n",
       "      <td>High</td>\n",
       "      <td>4 ★</td>\n",
       "      <td>76</td>\n",
       "      <td>86</td>\n",
       "      <td>93</td>\n",
       "      <td>88</td>\n",
       "      <td>64</td>\n",
       "      <td>78</td>\n",
       "      <td>163.0</td>\n",
       "    </tr>\n",
       "    <tr>\n",
       "      <th>4</th>\n",
       "      <td>190871</td>\n",
       "      <td>Neymar Jr</td>\n",
       "      <td>Neymar da Silva Santos Jr.</td>\n",
       "      <td>https://cdn.sofifa.com/players/190/871/21_60.png</td>\n",
       "      <td>http://sofifa.com/player/190871/neymar-da-silv...</td>\n",
       "      <td>Brazil</td>\n",
       "      <td>LW CAM</td>\n",
       "      <td>28</td>\n",
       "      <td>91</td>\n",
       "      <td>91</td>\n",
       "      <td>...</td>\n",
       "      <td>High</td>\n",
       "      <td>Medium</td>\n",
       "      <td>5 ★</td>\n",
       "      <td>91</td>\n",
       "      <td>85</td>\n",
       "      <td>86</td>\n",
       "      <td>94</td>\n",
       "      <td>36</td>\n",
       "      <td>59</td>\n",
       "      <td>273.0</td>\n",
       "    </tr>\n",
       "  </tbody>\n",
       "</table>\n",
       "<p>5 rows × 80 columns</p>\n",
       "</div>"
      ],
      "text/plain": [
       "       ID               Name                      LongName  \\\n",
       "0  158023           L. Messi                  Lionel Messi   \n",
       "1   20801  Cristiano Ronaldo  C. Ronaldo dos Santos Aveiro   \n",
       "2  200389           J. Oblak                     Jan Oblak   \n",
       "3  192985       K. De Bruyne               Kevin De Bruyne   \n",
       "4  190871          Neymar Jr    Neymar da Silva Santos Jr.   \n",
       "\n",
       "                                           photoUrl  \\\n",
       "0  https://cdn.sofifa.com/players/158/023/21_60.png   \n",
       "1  https://cdn.sofifa.com/players/020/801/21_60.png   \n",
       "2  https://cdn.sofifa.com/players/200/389/21_60.png   \n",
       "3  https://cdn.sofifa.com/players/192/985/21_60.png   \n",
       "4  https://cdn.sofifa.com/players/190/871/21_60.png   \n",
       "\n",
       "                                           playerUrl Nationality Positions  \\\n",
       "0  http://sofifa.com/player/158023/lionel-messi/2...   Argentina  RW ST CF   \n",
       "1  http://sofifa.com/player/20801/c-ronaldo-dos-s...    Portugal     ST LW   \n",
       "2  http://sofifa.com/player/200389/jan-oblak/210005/    Slovenia        GK   \n",
       "3  http://sofifa.com/player/192985/kevin-de-bruyn...     Belgium    CAM CM   \n",
       "4  http://sofifa.com/player/190871/neymar-da-silv...      Brazil    LW CAM   \n",
       "\n",
       "   Age  ↓OVA  POT  ...     A/W     D/W   IR  PAC SHO  PAS DRI  DEF  PHY   Hits  \n",
       "0   33    93   93  ...  Medium     Low  5 ★   85  92   91  95   38   65  372.0  \n",
       "1   35    92   92  ...    High     Low  5 ★   89  93   81  89   35   77  344.0  \n",
       "2   27    91   93  ...  Medium  Medium  3 ★   87  92   78  90   52   90   86.0  \n",
       "3   29    91   91  ...    High    High  4 ★   76  86   93  88   64   78  163.0  \n",
       "4   28    91   91  ...    High  Medium  5 ★   91  85   86  94   36   59  273.0  \n",
       "\n",
       "[5 rows x 80 columns]"
      ]
     },
     "execution_count": 86,
     "metadata": {},
     "output_type": "execute_result"
    }
   ],
   "source": [
    "# Display the cleaned DataFrame\n",
    "df.head()"
   ]
  },
  {
   "cell_type": "markdown",
   "id": "599ac4f8-5669-42f8-b2da-da7c072087d6",
   "metadata": {},
   "source": [
    "## Save Cleaned Data\n"
   ]
  },
  {
   "cell_type": "code",
   "execution_count": 87,
   "id": "dfd12001-fc0a-495b-bffc-f584dbccc9b2",
   "metadata": {},
   "outputs": [],
   "source": [
    "df.to_csv('Cleaned_FIFA21.csv', index=False)"
   ]
  },
  {
   "cell_type": "markdown",
   "id": "93d4aa59-8e8f-4200-b16a-bc03e98bd7bc",
   "metadata": {},
   "source": [
    "## Conclusion\n",
    "By following these steps, you have successfully cleaned and transformed the FIFA 21 dataset, making it ready for further analysis."
   ]
  }
 ],
 "metadata": {
  "kernelspec": {
   "display_name": "Python 3 (ipykernel)",
   "language": "python",
   "name": "python3"
  },
  "language_info": {
   "codemirror_mode": {
    "name": "ipython",
    "version": 3
   },
   "file_extension": ".py",
   "mimetype": "text/x-python",
   "name": "python",
   "nbconvert_exporter": "python",
   "pygments_lexer": "ipython3",
   "version": "3.11.6"
  }
 },
 "nbformat": 4,
 "nbformat_minor": 5
}
